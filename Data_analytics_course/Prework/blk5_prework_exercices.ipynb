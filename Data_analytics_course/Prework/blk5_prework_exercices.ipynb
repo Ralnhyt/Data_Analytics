{
  "cells": [
    {
      "cell_type": "markdown",
      "metadata": {
        "id": "tsEtTyM1FlrG"
      },
      "source": [
        "<!DOCTYPE html>\n",
        "<html>\n",
        "<head>\n",
        "</head>\n",
        "<body>\n",
        "\n",
        "<div style=\"display: flex; justify-content: center; align-items: center; font-family: Arial, sans-serif; margin-top: 20px; margin-bottom: 20px;\">\n",
        "  <div style=\"text-align: right;\">\n",
        "    <div style=\"font-size: 24px; font-weight: bold; color: white; margin-left:20px;\">PREWORK BOOTCAMP DATA ANALYTICS</div>\n",
        "    <div style=\"font-size: 18px; font-weight: bold; margin-left: 20px;\">QUINTO BLOQUE: EJERCICIOS</div>\n",
        "  </div>\n",
        "  <div style=\"text-align: right;\">\n",
        "    <img src=\"https://d1fdloi71mui9q.cloudfront.net/S8HhvUnnRgmjyhySHtWl_ZQMaRWd21TfV5AsU\" width=\"100\" height=\"100\">\n",
        "  </div>\n",
        "  <div style=\"text-align: left;\">\n",
        "    <div style=\"font-size: 24px; font-weight: bold; color: white; margin-left:20px;\">UPGRADE-HUB</div>\n",
        "    <div style=\"font-size: 18px; font-weight: bold; margin-left: 20px;\">coordinacion.data@bootcamp-upgrade.com</div>\n",
        "  </div>\n",
        "</div>\n",
        "\n",
        "</body>\n",
        "</html>"
      ]
    },
    {
      "cell_type": "markdown",
      "metadata": {
        "id": "9V0EEskVFlrJ"
      },
      "source": [
        "Calcula la media, mediana y moda de la siguiente lista de números: [5, 7, 2, 4, 7, 8, 1, 3, 5, 6]."
      ]
    },
    {
      "cell_type": "code",
      "execution_count": null,
      "metadata": {
        "colab": {
          "base_uri": "https://localhost:8080/"
        },
        "id": "u51JgVXdFlrL",
        "outputId": "b0dae45e-fd57-4c7d-a6ac-58cf4af7cb8b"
      },
      "outputs": [
        {
          "output_type": "stream",
          "name": "stdout",
          "text": [
            "4.8\n",
            "5.0\n",
            "5\n"
          ]
        }
      ],
      "source": [
        "def media(datos):\n",
        "  return sum(datos)/len(datos)\n",
        "\n",
        "def mediana(datos):\n",
        "  datos_ordenados = sorted(datos)\n",
        "  n = len(datos)\n",
        "\n",
        "  if n % 2 == 0:\n",
        "    return (datos_ordenados[n // 2 - 1] + datos_ordenados[n // 2]) / 2\n",
        "\n",
        "  else:\n",
        "    return datos_ordenados[n // 2]\n",
        "\n",
        "def moda(datos):\n",
        "    frecuencia = {}\n",
        "    for i in datos:\n",
        "        if i in frecuencia:\n",
        "            frecuencia[i] += 1\n",
        "        else:\n",
        "            frecuencia[i] = 1\n",
        "    return max(frecuencia, key=frecuencia.get)\n",
        "\n",
        "datos = [5,7,2,4,7,8,1,3,5,6]\n",
        "print(media(datos))\n",
        "print(mediana(datos))\n",
        "print(moda(datos))"
      ]
    },
    {
      "cell_type": "markdown",
      "metadata": {
        "id": "-Ty8nkWiFlrM"
      },
      "source": [
        "Calcula la varianza y la desviación estándar de la siguiente lista de números: [23, 19, 12, 17, 30, 28, 25, 22, 15, 20]."
      ]
    },
    {
      "cell_type": "code",
      "execution_count": null,
      "metadata": {
        "id": "O-Xfgg20FlrN",
        "colab": {
          "base_uri": "https://localhost:8080/"
        },
        "outputId": "43602e4a-4420-4d69-ff7d-5f857f0bfaa5"
      },
      "outputs": [
        {
          "output_type": "stream",
          "name": "stdout",
          "text": [
            "media: 21.1\n",
            "varianza( 28.889999999999997\n",
            "desviacion estandar:(1.0, 5)\n"
          ]
        }
      ],
      "source": [
        "        def media(lista):\n",
        "          return sum(lista)/len(lista)\n",
        "\n",
        "        def varianza(lista):\n",
        "          medi = media(lista)\n",
        "          return sum([(d - medi)**2 for d in lista]) / len(lista)\n",
        "\n",
        "        def desviacion_estandar(lista):\n",
        "          return varianza(lista)**0,5\n",
        "\n",
        "\n",
        "\n",
        "\n",
        "\n",
        "\n",
        "\n",
        "lista = [23, 19, 12, 17, 30, 28, 25, 22, 15, 20]\n",
        "print(f\"media: {media(lista)}\")\n",
        "print(f\"varianza( {varianza(lista)}\")\n",
        "print(f\"desviacion estandar:{desviacion_estandar(lista)}\")"
      ]
    },
    {
      "cell_type": "code",
      "source": [],
      "metadata": {
        "id": "ZhThw_yRgNzC"
      },
      "execution_count": null,
      "outputs": []
    },
    {
      "cell_type": "markdown",
      "metadata": {
        "id": "aIWm07N8FlrN"
      },
      "source": [
        "Supongamos que la altura media de los estudiantes de una clase es de 165 cm, con una desviación estándar de 10 cm. Si seleccionamos un estudiante al azar, ¿cuál es la probabilidad de que su altura esté entre 155 cm y 175 cm?"
      ]
    },
    {
      "cell_type": "code",
      "execution_count": null,
      "metadata": {
        "id": "VaCprf2pFlrO",
        "colab": {
          "base_uri": "https://localhost:8080/"
        },
        "outputId": "f79c8146-9450-4ef2-fcf8-ceb14776d2bc"
      },
      "outputs": [
        {
          "output_type": "stream",
          "name": "stdout",
          "text": [
            "Probabilidad aproximada de 155 cm y 175 cm es:0.68\n"
          ]
        }
      ],
      "source": [
        "  def calculo(media,desviacion,valor):\n",
        "    return (valor-media) / desviacion\n",
        "\n",
        "  def probabilidad(media, desviacion, limite1, limite2):\n",
        "    inferior = calculo(media, desviacion, limite1)\n",
        "    superior = calculo(media, desviacion, limite2)\n",
        "    if inferior == -1 and superior == 1:\n",
        "      return 0.68\n",
        "    else:\n",
        "      return \"Fuera de rango\"\n",
        "prob = probabilidad(media, desviacion, limite1, limite2)\n",
        "\n",
        "media = 165\n",
        "desviacion = 10\n",
        "limite1 = 155\n",
        "limite2 = 175\n",
        "print(f\"Probabilidad aproximada de {limite1} cm y {limite2} cm es:{prob}\")"
      ]
    },
    {
      "cell_type": "markdown",
      "metadata": {
        "id": "94EyBzCuFlrP"
      },
      "source": [
        "el salario medio de los trabajadores de una empresa es de $50,000 al año, con una desviación estándar de $10,000 al año. Si seleccionamos al azar a 25 trabajadores de la empresa, ¿cuál es la probabilidad de que su salario medio sea mayor que $55,000 al año?"
      ]
    },
    {
      "cell_type": "code",
      "execution_count": null,
      "metadata": {
        "id": "X25wvA0nFlrP",
        "colab": {
          "base_uri": "https://localhost:8080/"
        },
        "outputId": "30c70545-77cb-4c6b-e027-02c2288fd207"
      },
      "outputs": [
        {
          "output_type": "stream",
          "name": "stdout",
          "text": [
            "probabilidad de que sea mayor que $55,000 es: 0.45460749727661265\n"
          ]
        }
      ],
      "source": [
        "  def desviacion_media(desviacion, n):\n",
        "      return desviacion / (n ** 0.5)\n",
        "\n",
        "  def calcular_z(media_muestral, media, desviacion_muestral):\n",
        "      return (muestral - media) / muestral\n",
        "\n",
        "  def probabilidad_acumulada(z):\n",
        "      if z < -3:\n",
        "          return 0.0\n",
        "      elif z > 3:\n",
        "          return 1.0\n",
        "      else:\n",
        "          return 0.5 * (1 + (z + (z**3)/3 + (z**5)/10) / (1 + z**2/2))\n",
        "\n",
        "  def probabilidad_salario_mayor(media, desviacion, n, media_muestral):\n",
        "      desviacion_muestral = desviacion_media(desviacion, n)\n",
        "      z = calcular_z(media_muestral, media, desviacion_muestral)\n",
        "      return 1 - probabilidad_acumulada(z)\n",
        "\n",
        "media = 50000\n",
        "desviacion = 1000\n",
        "n = 25\n",
        "muestral = 55000\n",
        "probabilidad = probabilidad_salario_mayor(media, desviacion, n, muestral)\n",
        "\n",
        "print(f\"probabilidad de que sea mayor que $55,000 es: {probabilidad}\")"
      ]
    },
    {
      "cell_type": "markdown",
      "metadata": {
        "id": "mBfWxRjiFlrQ"
      },
      "source": [
        "Una tienda vende tres tipos de camisetas: pequeñas, medianas y grandes. La proporción de ventas de cada tamaño es del 30%, 50% y 20%, respectivamente. Si se venden 100 camisetas en total, ¿cuántas camisetas de cada tamaño se vendieron?"
      ]
    },
    {
      "cell_type": "code",
      "execution_count": null,
      "metadata": {
        "id": "yJOjHzhoFlrQ",
        "colab": {
          "base_uri": "https://localhost:8080/"
        },
        "outputId": "a9d650d1-c8ed-4c3d-c847-688c200fe6cc"
      },
      "outputs": [
        {
          "output_type": "stream",
          "name": "stdout",
          "text": [
            "camisetas pequeñas vendidas: 30.0\n",
            "camisetas medianas vendidas: 50.0\n",
            "camisetas grandes vendidas: 20.0\n"
          ]
        }
      ],
      "source": [
        "  def calcular_ventas(total, proporcion):\n",
        "      return total * proporcion\n",
        "\n",
        "  def ventas_camisetas(total):\n",
        "      pequenas = 0.30\n",
        "      medianas = 0.50\n",
        "      grandes = 0.20\n",
        "\n",
        "      pequenas = calcular_ventas(total, pequenas)\n",
        "      medianas = calcular_ventas(total, medianas)\n",
        "      grandes = calcular_ventas(total, grandes)\n",
        "\n",
        "      return pequenas, medianas, grandes\n",
        "\n",
        "total_camisetas = 100\n",
        "ventas = ventas_camisetas(total_camisetas)\n",
        "\n",
        "print(f\"camisetas pequeñas vendidas: {ventas[0]}\")\n",
        "print(f\"camisetas medianas vendidas: {ventas[1]}\")\n",
        "print(f\"camisetas grandes vendidas: {ventas[2]}\")"
      ]
    },
    {
      "cell_type": "markdown",
      "metadata": {
        "id": "TqV94c1cFlrQ"
      },
      "source": [
        "Supongamos que la duración media de la batería de un teléfono celular es de 10 horas, con una desviación estándar de 2 horas. Si seleccionamos al azar a 36 teléfonos celulares, ¿cuál es la probabilidad de que su duración media de la batería sea menor que 9 horas?"
      ]
    },
    {
      "cell_type": "code",
      "execution_count": null,
      "metadata": {
        "id": "vKrE8eX0FlrR",
        "colab": {
          "base_uri": "https://localhost:8080/"
        },
        "outputId": "3e0d5268-5a85-4f34-e6c2-83a27a6c6124"
      },
      "outputs": [
        {
          "output_type": "stream",
          "name": "stdout",
          "text": [
            "La probabilidad de que la duración mediasea menor de 9 horas es: -2.8\n"
          ]
        }
      ],
      "source": [
        "  def desviacion_media(desviacion, n):\n",
        "      return desviacion / (n ** 0.5)\n",
        "\n",
        "  def calcular_z(media_uestral, media, desviacion_muestral):\n",
        "      return (media_muestral - media) / desviacion_muestral\n",
        "\n",
        "  def probabilidad_acumulada(z):\n",
        "      if z < -3:\n",
        "          return 0.0\n",
        "      elif z > 3:\n",
        "          return 1.0\n",
        "      else:\n",
        "          return 0.5 * (1 + (z + (z**3)/3 + (z**5)/10) / (1 + z**2/2))\n",
        "\n",
        "  def probabilidad_duracion_menor(media, desviacion, n, media_muestral):\n",
        "      desviacion_muestral = desviacion_media(desviacion, n)\n",
        "      z = calcular_z(media_muestral, media, desviacion_muestral)\n",
        "      return probabilidad_acumulada(z)\n",
        "\n",
        "\n",
        "media = 10\n",
        "desviacion = 2\n",
        "n = 36\n",
        "media_muestral = 9\n",
        "probabilidad = probabilidad_duracion_menor(media, desviacion, n, media_muestral)\n",
        "\n",
        "print(f\"La probabilidad de que la duración media sea menor de 9 horas es: {probabilidad}\")"
      ]
    },
    {
      "cell_type": "markdown",
      "metadata": {
        "id": "c1dpXZVNFlrR"
      },
      "source": [
        " la cantidad media de tiempo que un cliente pasa en una tienda es de 45 minutos, con una desviación estándar de 10 minutos. Si seleccionamos al azar a 16 clientes, ¿cuál es la probabilidad de que su tiempo medio de permanencia sea mayor que 50 minutos?"
      ]
    },
    {
      "cell_type": "markdown",
      "source": [
        "  def desviacion_media(desviacion, n):\n",
        "      return desviacion / (n ** 0.5)\n",
        "\n",
        "  def calcular_z(media_muestral, media, desviacion_muestral):\n",
        "      return (media_muestral - media) / desviacion_muestral\n",
        "\n",
        "  def probabilidad_acumulada(z):\n",
        "    i f z < -3:\n",
        "          return 0.0\n",
        "      elif z > 3:\n",
        "          return 1.0\n",
        "      else:\n",
        "          return 0.5 * (1 + (z + (z**3)/3 + (z**5)/10) / (1 + z**2/2))\n",
        "\n",
        "  def probabilidad_tiempo_mayor(media, desviacion, n, media_muestral):\n",
        "      desviacion_muestral = desviacion_media(desviacion, n)\n",
        "     z = calcular_z(media_muestral, media, desviacion_muestral)\n",
        "     return 1 - probabilidad_acumulada(z)\n",
        "\n",
        "\n",
        "media = 45\n",
        "desviacion = 10\n",
        "n = 16 # Tiempo medio muestral que queremos analizar\n",
        "\n",
        "# Calcular la probabilidad\n",
        "probabilidad = probabilidad_tiempo_mayor(media, desviacion, n, media_muestral)\n",
        "\n",
        "# Imprimir el resultado\n",
        "print(f\"La probabilidad de que el tiempo medio de permanencia sea mayor que 50 minutos es: {probabilidad}\")"
      ],
      "metadata": {
        "id": "jjsAewtnFlrR"
      }
    },
    {
      "cell_type": "code",
      "source": [
        "  def desviacion_media(desviacion, n):\n",
        "      return desviacion / (n ** 0.5)\n",
        "\n",
        "  def calcular_z(media_muestral, media, desviacion_muestral):\n",
        "      return (media_muestral - media) / desviacion_muestral\n",
        "\n",
        "  def probabilidad_acumulada(z):\n",
        "      if z < -3:\n",
        "          return 0.0\n",
        "      elif z > 3:\n",
        "          return 1.0\n",
        "      else:\n",
        "         return 0.5 * (1 + (z + (z**3)/3 + (z**5)/10) / (1 + z**2/2))\n",
        "\n",
        "  def probabilidad1(media, desviacion, n, media1):\n",
        "      desviacion1 = desviacion_media(desviacion, n)\n",
        "      z = calcular_z(muestral, media, desviacion1)\n",
        "      return 1 - probabilidad_acumulada(z)\n",
        "\n",
        "media = 45\n",
        "desviacion = 10\n",
        "n = 16\n",
        "muestral = 50\n",
        "probabilidad = probabilidad1(media, desviacion, n, media_muestral)\n",
        "\n",
        "# Imprimir el resultado\n",
        "print(f\"La probabilidad que el tiempo de permanencia sea mayor que 50 minutos es: {probabilidad}\")"
      ],
      "metadata": {
        "colab": {
          "base_uri": "https://localhost:8080/"
        },
        "id": "TegDdrZatd6H",
        "outputId": "1f76ac58-42a0-4ab2-d3ed-320c664d5a8d"
      },
      "execution_count": null,
      "outputs": [
        {
          "output_type": "stream",
          "name": "stdout",
          "text": [
            "La probabilidad que el tiempo medio de permanencia sea mayor de 50 minutos es: -0.8111111111111111\n"
          ]
        }
      ]
    },
    {
      "cell_type": "markdown",
      "metadata": {
        "id": "_Q8zffFLFlrR"
      },
      "source": [
        " la cantidad media de kilómetros recorridos por día por un conductor es de 50 km, con una desviación estándar de 5 km. Si seleccionamos al azar a 64 conductores, ¿cuál es la probabilidad de que su cantidad media de kilómetros recorridos por día esté entre 48 km y 52 km?"
      ]
    },
    {
      "cell_type": "code",
      "execution_count": 13,
      "metadata": {
        "id": "S8pjj8qwFlrR",
        "colab": {
          "base_uri": "https://localhost:8080/"
        },
        "outputId": "279eb40a-556b-4ab8-d62b-9741d9844c2f"
      },
      "outputs": [
        {
          "output_type": "stream",
          "name": "stdout",
          "text": [
            "la probabilidad de que los km recorridos por día este entre 48 km y 52 km es: 0.0\n"
          ]
        }
      ],
      "source": [
        "  def desviacion_media(desviacion, n):\n",
        "    return desviacion / (n ** 0.5)\n",
        "\n",
        "  def calcular_z(media_muestral, media, desviacion1):\n",
        "    return (media_muestral - media) / desviacion1\n",
        "\n",
        "  def probabilidad_acumulada(z):\n",
        "    if z < -3:\n",
        "      return 0.0\n",
        "    elif z > 3:\n",
        "      return 1.0\n",
        "    else:\n",
        "      return 0.5 * (1 + (z + (z**3)/3 + (z**5)/10) / (1 + z**2/2))\n",
        "\n",
        "  def probabilidad_km(media, desviacion, n, limite1, limite2):\n",
        "      desviacion_muestral = desviacion_media(desviacion, n)\n",
        "      z1 = calcular_z(limite1, media, desviacion_muestral)\n",
        "      z2 = calcular_z(limite2, media, desviacion_muestral)\n",
        "      probabilidad1 = probabilidad_acumulada(z1)\n",
        "      probabilidad2 = probabilidad_acumulada(z1)\n",
        "      return probabilidad2 - probabilidad1\n",
        "\n",
        "\n",
        "media = 50\n",
        "desviacion = 5\n",
        "n = 64\n",
        "limite1 = 48\n",
        "limite2 = 52\n",
        "probabilidad = probabilidad_km(media, desviacion, n, limite1, limite2)\n",
        "\n",
        "print(f\"la probabilidad de que los km recorridos por día este entre {limite1} km y {limite2} km es: {probabilidad}\")"
      ]
    },
    {
      "cell_type": "markdown",
      "metadata": {
        "id": "asSc0NTCFlrS"
      },
      "source": [
        " la cantidad media de tazas de café que toma un empleado de una empresa es de 3 tazas al día, con una desviación estándar de 1 taza al día. Si seleccionamos al azar a 100 empleados, ¿cuál es la probabilidad de que la cantidad media de tazas de café que toman al día esté entre 2,8 y 3,2 tazas?"
      ]
    },
    {
      "cell_type": "code",
      "execution_count": 22,
      "metadata": {
        "id": "RxugGRveFlrS",
        "colab": {
          "base_uri": "https://localhost:8080/"
        },
        "outputId": "61d78daf-3670-482b-d7ed-0e2803790792"
      },
      "outputs": [
        {
          "output_type": "stream",
          "name": "stdout",
          "text": [
            "La probabilidad de que la cantidad de café este entre 2.8 y 3.2 tazas es: 2.6222222222222267\n"
          ]
        }
      ],
      "source": [
        "  def desviacion_media(desviacion, n):\n",
        "    return desviacion / (n ** 0.5)\n",
        "\n",
        "  def calcular_z(media_muestral, media, desviacion_muestral):\n",
        "    return (media_muestral - media) / desviacion_muestral\n",
        "\n",
        "  def probabilidad_acumulada(z):\n",
        "    if z < -3:\n",
        "      return 0.0\n",
        "    elif z > 3:\n",
        "      return 1.0\n",
        "    else:\n",
        "      return 0.5 * (1 + (z + (z**3)/3 + (z**5)/10) / (1 + z**2/2))\n",
        "\n",
        "  def probabilidad_cafe(media, desviacion, n, limite1, limite2):\n",
        "    desviacion_muestral = desviacion_media(desviacion, n)\n",
        "    z1 = calcular_z(limite1, media, desviacion_muestral)\n",
        "    z2 = calcular_z(limite2, media, desviacion_muestral)\n",
        "    probabilidad1 = probabilidad_acumulada(z1)\n",
        "    probabilidad2 = probabilidad_acumulada(z2)\n",
        "    return probabilidad2 - probabilidad1\n",
        "\n",
        "media = 3\n",
        "desviacion = 1\n",
        "n = 100\n",
        "limite1 = 2.8\n",
        "limite2 = 3.2\n",
        "probabilidad = probabilidad_cafe(media, desviacion, n, limite1, limite2)\n",
        "\n",
        "print(f\"La probabilidad de que la cantidad de café este entre {limite1} y {limite2} tazas es: {probabilidad}\")"
      ]
    },
    {
      "cell_type": "markdown",
      "metadata": {
        "id": "OGqVUHL3FlrS"
      },
      "source": [
        "Supongamos que el 60% de los estudiantes de una universidad son mujeres y el 40% son hombres. Si seleccionamos al azar a 25 estudiantes, ¿cuál es la probabilidad de que haya más mujeres que hombres en la muestra?"
      ]
    },
    {
      "cell_type": "code",
      "execution_count": 26,
      "metadata": {
        "id": "tCtZtgBQFlrS",
        "colab": {
          "base_uri": "https://localhost:8080/"
        },
        "outputId": "a56c0aa1-f5b4-4660-bdfd-71e064c378e3"
      },
      "outputs": [
        {
          "output_type": "stream",
          "name": "stdout",
          "text": [
            "la probabilidad de que haya mas mujeres es: 0.9884648852082607\n"
          ]
        }
      ],
      "source": [
        "  def media_binomial(n, p):\n",
        "    return n * p\n",
        "\n",
        "  def desviacion(n, p):\n",
        "      return (n * p * (1 - p)) ** 0.5\n",
        "\n",
        "  def calcular_z(x, media, desviacion):\n",
        "    return (x - media) / desviacion\n",
        "\n",
        "  def probabilidad_acumulada(z):\n",
        "    if z < -3:\n",
        "        return 0.0\n",
        "    elif z > 3:\n",
        "        return 1.0\n",
        "    else:\n",
        "        return 0.5 * (1 + (z + (z**3)/3 + (z**5)/10) / (1 + z**2/2))\n",
        "\n",
        "  def probabilidad_mas_mujeres(n, p, x):\n",
        "    media = media_binomial(n, p)\n",
        "    desviacion = desviacion_binomial(n, p)\n",
        "    z = calcular_z(x, media, desviacion)\n",
        "    return 1 - probabilidad_acumulada(z)\n",
        "\n",
        "n = 25\n",
        "p = 0.6\n",
        "x = 12.5\n",
        "probabilidad = probabilidad_mas_mujeres(n, p, x)\n",
        "print(f\"la probabilidad de que haya mas mujeres es: {probabilidad}\")"
      ]
    }
  ],
  "metadata": {
    "kernelspec": {
      "display_name": "Python 3",
      "language": "python",
      "name": "python3"
    },
    "language_info": {
      "name": "python",
      "version": "3.9.13"
    },
    "orig_nbformat": 4,
    "colab": {
      "provenance": []
    }
  },
  "nbformat": 4,
  "nbformat_minor": 0
}