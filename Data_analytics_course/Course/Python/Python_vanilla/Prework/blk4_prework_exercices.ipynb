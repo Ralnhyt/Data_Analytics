{
  "cells": [
    {
      "cell_type": "markdown",
      "metadata": {
        "id": "tn8h6eRmDUPd"
      },
      "source": [
        "<!DOCTYPE html>\n",
        "<html>\n",
        "<head>\n",
        "</head>\n",
        "<body>\n",
        "\n",
        "<div style=\"display: flex; justify-content: center; align-items: center; font-family: Arial, sans-serif; margin-top: 20px; margin-bottom: 20px;\">\n",
        "  <div style=\"text-align: right;\">\n",
        "    <div style=\"font-size: 24px; font-weight: bold; color: white; margin-left:20px;\">PREWORK BOOTCAMP DATA ANALYTICS</div>\n",
        "    <div style=\"font-size: 18px; font-weight: bold; margin-left: 20px;\">CUARTO BLOQUE: EJERCICIOS</div>\n",
        "  </div>\n",
        "  <div style=\"text-align: right;\">\n",
        "    <img src=\"https://d1fdloi71mui9q.cloudfront.net/S8HhvUnnRgmjyhySHtWl_ZQMaRWd21TfV5AsU\" width=\"100\" height=\"100\">\n",
        "  </div>\n",
        "  <div style=\"text-align: left;\">\n",
        "    <div style=\"font-size: 24px; font-weight: bold; color: white; margin-left:20px;\">UPGRADE-HUB</div>\n",
        "    <div style=\"font-size: 18px; font-weight: bold; margin-left: 20px;\">coordinacion.data@bootcamp-upgrade.com</div>\n",
        "  </div>\n",
        "</div>\n",
        "\n",
        "</body>\n",
        "</html>"
      ]
    },
    {
      "cell_type": "markdown",
      "metadata": {
        "id": "1AWS7GacDUPi"
      },
      "source": [
        "Crear una clase Círculo que tenga un atributo radio y dos métodos para calcular su área y su perímetro."
      ]
    },
    {
      "cell_type": "code",
      "execution_count": null,
      "metadata": {
        "colab": {
          "base_uri": "https://localhost:8080/"
        },
        "id": "Xz9_mMcyDUPj",
        "outputId": "8dd84ee2-6c1d-4013-e839-9c685b440147"
      },
      "outputs": [
        {
          "output_type": "stream",
          "name": "stdout",
          "text": [
            "area: 50.26548245743669\n",
            "perimetro: 25.132741228718345\n"
          ]
        }
      ],
      "source": [
        "import math\n",
        "class Circulo:\n",
        "        def __init__(self,radio): #constructor: __init__\n",
        "          self.radio = radio #atributo: self.radio\n",
        "        def area(self): #metodo\n",
        "          return math.pi*(self.radio**2) #formula area\n",
        "        def perimetro(self): #metodo perimetro\n",
        "          return 2 * math.pi*self.radio #formula radio\n",
        "Circulo = Circulo(4) #instancia de clase\n",
        "print(\"area:\", Circulo.area())\n",
        "print(\"perimetro:\", Circulo.perimetro())"
      ]
    },
    {
      "cell_type": "markdown",
      "metadata": {
        "id": "j62xEaA0DUPj"
      },
      "source": [
        "Crear una clase Rectángulo con atributos largo y ancho. La clase debe tener métodos para calcular su área y su perímetro."
      ]
    },
    {
      "cell_type": "code",
      "execution_count": null,
      "metadata": {
        "colab": {
          "base_uri": "https://localhost:8080/"
        },
        "id": "mnbx6oKlDUPk",
        "outputId": "e4fbadf2-cc0e-420b-f1e4-537125366c2b"
      },
      "outputs": [
        {
          "output_type": "stream",
          "name": "stdout",
          "text": [
            "Área: 60\n",
            "Perímetro: 32\n"
          ]
        }
      ],
      "source": [
        "import math\n",
        "class Rectangulo:\n",
        "        def __init__(self,largo, ancho):\n",
        "          self.largo = largo\n",
        "          self.ancho = ancho\n",
        "        def area(self):\n",
        "          return self.largo * self.ancho\n",
        "        def perimetro(self):\n",
        "          return 2 * (self.ancho + self.largo)\n",
        "rectangulo = Rectangulo(6, 10)\n",
        "print(\"Área:\", rectangulo.area())\n",
        "print(\"Perímetro:\", rectangulo.perimetro())\n"
      ]
    },
    {
      "cell_type": "markdown",
      "metadata": {
        "id": "n3J-4tPiDUPk"
      },
      "source": [
        "Crear una clase CuentaBancaria que tenga atributos titular y saldo. La clase debe tener métodos para depositar, retirar y mostrar el saldo actual.\n",
        "\n"
      ]
    },
    {
      "cell_type": "code",
      "execution_count": null,
      "metadata": {
        "colab": {
          "base_uri": "https://localhost:8080/"
        },
        "id": "N27eFxy2DUPl",
        "outputId": "64ce9ddf-f088-47d3-8789-90f51bda96af"
      },
      "outputs": [
        {
          "output_type": "stream",
          "name": "stdout",
          "text": [
            "deposito:20.saldo:40\n",
            "retiro: 5. saldo: 40\n",
            "saldo actual: David:40\n"
          ]
        }
      ],
      "source": [
        "import math\n",
        "class CuentaBancaria:\n",
        "        def __init__(self, titular, saldo):\n",
        "          self.titular = titular\n",
        "          self.saldo = saldo\n",
        "\n",
        "        def depositar(self, cantidad: int):\n",
        "          if cantidad >0:\n",
        "            self.saldo += cantidad\n",
        "            print(f\"deposito:{cantidad}.saldo:{self.saldo}\")\n",
        "          else:\n",
        "            print(f\"cantidad insuficiente\")\n",
        "\n",
        "        def retirar(self, cantidad: int):\n",
        "          if 0< cantidad <= self.saldo:\n",
        "            print(f\"retiro: {cantidad}. saldo: {self.saldo}\")\n",
        "\n",
        "        def mostrar_saldo(self):\n",
        "          print(f\"saldo actual: {self.titular}:{self.saldo}\")\n",
        "\n",
        "cuenta = CuentaBancaria(\"David\",20)\n",
        "cuenta.depositar(20)\n",
        "cuenta.retirar(5)\n",
        "cuenta.mostrar_saldo()"
      ]
    },
    {
      "cell_type": "markdown",
      "metadata": {
        "id": "ja6prTghDUPm"
      },
      "source": [
        "Crear una clase Estudiante con atributos nombre, edad, grado y calificaciones (un diccionario con nombres de materias y calificaciones). La clase debe tener métodos para agregar una calificación, calcular el promedio de las calificaciones y mostrar el promedio.\n",
        "\n"
      ]
    },
    {
      "cell_type": "code",
      "execution_count": 6,
      "metadata": {
        "id": "pyFw_08pDUPn"
      },
      "outputs": [],
      "source": [
        "class Estudiante:\n",
        "        def __init__(self, nombre, edad, grado):\n",
        "          self.nombre = nombre\n",
        "          self.edad = edad\n",
        "          self.grado = grado\n",
        "          self.calificaciones = {}\n",
        "\n",
        "        def agregar_calificaciones(self, materia, calificaciones):\n",
        "          self.calificaciones[materia]= calificaciones\n",
        "\n",
        "        def calcular_promedio(self):\n",
        "          suma_calificaciones = sum(self.calificaciones.values())\n",
        "          cantidad_calificaciones = len(self.calificaciones)\n",
        "          promedio = suma_calificaciones / cantidad_calificaciones\n",
        "          return promedio\n",
        "\n",
        "        def mostrar_promedio(self):\n",
        "          promedio = self.calcular_promedio()\n",
        "          print(f\"Promedio de{self.nombre} es {promedio:.2f}\")\n",
        "\n",
        "\n",
        "Estudiante1 = Estudiante(\"Manu\", 25,\"informatica\")\n",
        "Estudiante1.agregar_calificaciones(\"informatica\",5)\n",
        "\n",
        "Estudiante2 = Estudiante(\"Abel\", 26,\"matematicas\")\n",
        "Estudiante2.agregar_calificaciones(\"matematicas\",7)"
      ]
    },
    {
      "cell_type": "markdown",
      "metadata": {
        "id": "EEcoCEfJDUPn"
      },
      "source": [
        "Crear una jerarquía de clases para representar figuras geométricas. Incluir clases para Figura, Círculo, Rectángulo y Triángulo. La clase Figura debe ser una superclase abstracta con métodos para calcular el área y el perímetro. Las subclases deben implementar estos métodos.\n",
        "\n"
      ]
    },
    {
      "cell_type": "code",
      "execution_count": 7,
      "metadata": {
        "id": "or5KIPdMDUPn",
        "colab": {
          "base_uri": "https://localhost:8080/"
        },
        "outputId": "47167b90-3c37-45a4-9ccf-242e96b63536"
      },
      "outputs": [
        {
          "output_type": "stream",
          "name": "stdout",
          "text": [
            "area ciruclo: 78.54\n",
            "perimetro circulo: 31.42\n",
            "area rectangulo: 24.00\n",
            "perimetro rectangulo: 20.00\n",
            "area triangulo 6.00\n",
            "perimetro triangulo: 9.00\n"
          ]
        }
      ],
      "source": [
        "from abc import ABC, abstractmethod\n",
        "import math\n",
        "\n",
        "class Figura(ABC):\n",
        "    @abstractmethod\n",
        "    def area(self):\n",
        "        pass\n",
        "    @abstractmethod\n",
        "    def perimetro(self):\n",
        "        pass\n",
        "class Circulo(Figura):\n",
        "    def __init__(self, radio):\n",
        "        self.radio = radio\n",
        "    def area(self):\n",
        "        return math.pi * self.radio ** 2\n",
        "    def perimetro(self):\n",
        "        return 2 * math.pi * self.radio\n",
        "\n",
        "class Rectangulo(Figura):\n",
        "    def __init__(self, ancho, alto):\n",
        "        self.ancho = ancho\n",
        "        self.alto = alto\n",
        "    def area(self):\n",
        "        return self.ancho * self.alto\n",
        "    def perimetro(self):\n",
        "        return 2 * (self.ancho + self.alto)\n",
        "\n",
        "class Triangulo(Figura):\n",
        "    def __init__(self, base, altura):\n",
        "        self.base = base\n",
        "        self.altura = altura\n",
        "    def area(self):\n",
        "        return (self.base * self.altura) / 2\n",
        "    def perimetro(self):\n",
        "        return 3 * self.base\n",
        "\n",
        "circulo = Circulo(5)\n",
        "rectangulo = Rectangulo(4, 6)\n",
        "triangulo = Triangulo(3, 4)\n",
        "\n",
        "print(f\"area ciruclo: {circulo.area():.2f}\")\n",
        "print(f\"perimetro circulo: {circulo.perimetro():.2f}\")\n",
        "print(f\"area rectangulo: {rectangulo.area():.2f}\")\n",
        "print(f\"perimetro rectangulo: {rectangulo.perimetro():.2f}\")\n",
        "print(f\"area triangulo {triangulo.area():.2f}\")\n",
        "print(f\"perimetro triangulo: {triangulo.perimetro():.2f}\")"
      ]
    },
    {
      "cell_type": "markdown",
      "metadata": {
        "id": "40UFmj8XDUPn"
      },
      "source": [
        "Crear una clase Automóvil con atributos marca, modelo, año y kilometraje. Crear una clase Concesionario que contenga una lista de objetos Automóvil. La clase Concesionario debe tener métodos para agregar un automóvil, eliminar un automóvil y buscar automóviles por marca, modelo o año.\n",
        "\n"
      ]
    },
    {
      "cell_type": "code",
      "execution_count": 11,
      "metadata": {
        "id": "VEkyj7X8DUPo",
        "colab": {
          "base_uri": "https://localhost:8080/"
        },
        "outputId": "bd8c7166-a7ba-4aa1-ef03-17812be1d1f7"
      },
      "outputs": [
        {
          "output_type": "stream",
          "name": "stdout",
          "text": [
            "marca toyota: []\n",
            "modelo focus: []\n",
            "año 2020: [<__main__.Automovil object at 0x78148c34c790>]\n"
          ]
        }
      ],
      "source": [
        "class Automovil:\n",
        "    def __init__(self, marca, modelo, año, kilometraje):\n",
        "        self.marca = marca\n",
        "        self.modelo = modelo\n",
        "        self.año = año\n",
        "        self.kilometraje = kilometraje\n",
        "\n",
        "class Concesionario:\n",
        "    def __init__(self):\n",
        "        self.autos = []\n",
        "\n",
        "    def agregar_automovil(self, auto):\n",
        "        self.autos.append(auto)\n",
        "\n",
        "    def eliminar_automovil(self, auto):\n",
        "        if auto in self.autos:\n",
        "            self.autos.remove(auto)\n",
        "    def buscar_por_marca(self, marca):\n",
        "        return [auto for auto in self.autos if auto.marca == marca]\n",
        "    def buscar_por_modelo(self, modelo):\n",
        "        return [auto for auto in self.autos if auto.modelo == modelo]\n",
        "    def buscar_por_año(self, año):\n",
        "        return [auto for auto in self.autos if auto.año == año]\n",
        "\n",
        "auto1 = Automovil(\"toyota\", \"corolla\", 2015, 60000)\n",
        "auto2 = Automovil(\"ford\", \"focus\", 2018, 30000)\n",
        "auto3 = Automovil(\"toyota\", \"camry\", 2020, 10000)\n",
        "\n",
        "concesionario = Concesionario()\n",
        "concesionario.agregar_automovil(auto1)\n",
        "concesionario.agregar_automovil(auto2)\n",
        "concesionario.agregar_automovil(auto3)\n",
        "\n",
        "print(\"marca toyota:\", concesionario.buscar_por_marca(\"Toyota\"))\n",
        "print(\"modelo focus:\", concesionario.buscar_por_modelo(\"Focus\"))\n",
        "print(\"año 2020:\", concesionario.buscar _por_año(2020))  #error"
      ]
    },
    {
      "cell_type": "markdown",
      "metadata": {
        "id": "caStxvfcDUPo"
      },
      "source": [
        "Crear una jerarquía de clases para representar empleados en una empresa. Incluir clases para Empleado, Gerente, Ingeniero y Vendedor. La clase Empleado debe ser una superclase con atributos comunes, como nombre, edad y salario. Las subclases deben tener atributos y métodos específicos, como bonificaciones para el Gerente, área de especialización para el Ingeniero y comisiones para el Vendedor.\n",
        "\n"
      ]
    },
    {
      "cell_type": "code",
      "execution_count": 10,
      "metadata": {
        "id": "0VqinAHfDUPo",
        "colab": {
          "base_uri": "https://localhost:8080/"
        },
        "outputId": "31d8fe72-2722-4d01-86b6-fcb9daaee2bb"
      },
      "outputs": [
        {
          "output_type": "stream",
          "name": "stdout",
          "text": [
            "gerente ana, salario total: 60000\n",
            "ingeniero luis, área: Software\n",
            "vendedor pedro, salario total: 35000\n"
          ]
        }
      ],
      "source": [
        "class Empleado:\n",
        "    def __init__(self, nombre, edad, salario):\n",
        "        self.nombre = nombre\n",
        "        self.edad = edad\n",
        "        self.salario = salario\n",
        "class Gerente(Empleado):\n",
        "    def __init__(self, nombre, edad, salario, bonificacion):\n",
        "        super().__init__(nombre, edad, salario)\n",
        "        self.bonificacion = bonificacion\n",
        "\n",
        "    def salario_total(self):\n",
        "        return self.salario + self.bonificacion\n",
        "class Ingeniero(Empleado):\n",
        "    def __init__(self, nombre, edad, salario, area_especializacion):\n",
        "        super().__init__(nombre, edad, salario)\n",
        "        self.area_especializacion = area_especializacion\n",
        "class Vendedor(Empleado):\n",
        "    def __init__(self, nombre, edad, salario, comision):\n",
        "        super().__init__(nombre, edad, salario)\n",
        "        self.comision = comision\n",
        "\n",
        "    def salario_total(self):\n",
        "        return self.salario + self.comision\n",
        "\n",
        "gerente = Gerente(\"ana\", 40, 50000, 10000)\n",
        "ingeniero = Ingeniero(\"luis\", 30, 40000, \"Software\")\n",
        "vendedor = Vendedor(\"pedro\", 25, 30000, 5000)\n",
        "\n",
        "print(f\"gerente {gerente.nombre}, salario total: {gerente.salario_total()}\")\n",
        "print(f\"ingeniero {ingeniero.nombre}, area: {ingeniero.area_especializacion}\")\n",
        "print(f\"vendedor {vendedor.nombre}, salario total: {vendedor.salario_total()}\")"
      ]
    },
    {
      "cell_type": "markdown",
      "metadata": {
        "id": "wya9cRSPDUPo"
      },
      "source": [
        "Crear un sistema de gestión de bibliotecas utilizando clases. Crear clases para Libro, Autor, Biblioteca y Usuario. Los libros deben tener atributos como título, autor y disponibilidad. La biblioteca debe tener una lista de libros y métodos para agregar libros, eliminar libros, buscar libros por título o autor y prestar libros a usuarios. Los usuarios deben tener una lista de libros prestados y métodos para devolver libros.\n",
        "\n"
      ]
    },
    {
      "cell_type": "code",
      "execution_count": 12,
      "metadata": {
        "id": "Ra6NJkRZDUPp",
        "colab": {
          "base_uri": "https://localhost:8080/"
        },
        "outputId": "a5547f0f-e250-4828-9d97-6767de5be3c9"
      },
      "outputs": [
        {
          "output_type": "stream",
          "name": "stdout",
          "text": [
            "Libros prestados por Ana: ['Cien Años de Soledad']\n"
          ]
        }
      ],
      "source": [
        "class Libro:\n",
        "    def __init__(self, titulo, autor):\n",
        "        self.titulo = titulo\n",
        "        self.autor = autor\n",
        "        self.disponible = True\n",
        "\n",
        "class Autor:\n",
        "    def __init__(self, nombre):\n",
        "        self.nombre = nombre\n",
        "\n",
        "class Usuario:\n",
        "    def __init__(self, nombre):\n",
        "        self.nombre = nombre\n",
        "        self.libros_prestados = []\n",
        "    def prestar_libro(self, libro):\n",
        "        if libro.disponible:\n",
        "            libro.disponible = False\n",
        "            self.libros_prestados.append(libro)\n",
        "    def devolver_libro(self, libro):\n",
        "        if libro in self.libros_prestados:\n",
        "            libro.disponible = True\n",
        "            self.libros_prestados.remove(libro)\n",
        "\n",
        "class Biblioteca:\n",
        "    def __init__(self):\n",
        "        self.libros = []\n",
        "    def agregar_libro(self, libro):\n",
        "        self.libros.append(libro)\n",
        "    def eliminar_libro(self, libro):\n",
        "        if libro in self.libros:\n",
        "            self.libros.remove(libro)\n",
        "    def buscar_por_titulo(self, titulo):\n",
        "        return [libro for libro in self.libros if libro.titulo == titulo]\n",
        "    def buscar_por_autor(self, autor):\n",
        "        return [libro for libro in self.libros if libro.autor == autor]\n",
        "\n",
        "autor1 = Autor(\"gabriel garcia\")\n",
        "libro1 = Libro(\"Cien Años de Soledad\", autor1.nombre)\n",
        "usuario1 = Usuario(\"Ana\")\n",
        "biblioteca = Biblioteca()\n",
        "\n",
        "biblioteca.agregar_libro(libro1)\n",
        "usuario1.prestar_libro(libro1)\n",
        "\n",
        "print(f\"Libros prestados por {usuario1.nombre}: {[libro.titulo for libro in usuario1.libros_prestados]}\")"
      ]
    }
  ],
  "metadata": {
    "kernelspec": {
      "display_name": "Python 3",
      "language": "python",
      "name": "python3"
    },
    "language_info": {
      "name": "python",
      "version": "3.9.13"
    },
    "orig_nbformat": 4,
    "colab": {
      "provenance": []
    }
  },
  "nbformat": 4,
  "nbformat_minor": 0
}