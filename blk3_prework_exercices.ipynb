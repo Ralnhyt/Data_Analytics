{
  "cells": [
    {
      "cell_type": "markdown",
      "metadata": {
        "id": "T9TRV_FxbONw"
      },
      "source": [
        "<!DOCTYPE html>\n",
        "<html>\n",
        "<head>\n",
        "</head>\n",
        "<body>\n",
        "\n",
        "<div style=\"display: flex; justify-content: center; align-items: center; font-family: Arial, sans-serif; margin-top: 20px; margin-bottom: 20px;\">\n",
        "  <div style=\"text-align: right;\">\n",
        "    <div style=\"font-size: 24px; font-weight: bold; color: white; margin-left:20px;\">PREWORK BOOTCAMP DATA ANALYTICS</div>\n",
        "    <div style=\"font-size: 18px; font-weight: bold; margin-left: 20px;\">TERCER BLOQUE: EJERCICIOS</div>\n",
        "  </div>\n",
        "  <div style=\"text-align: right;\">\n",
        "    <img src=\"https://d1fdloi71mui9q.cloudfront.net/S8HhvUnnRgmjyhySHtWl_ZQMaRWd21TfV5AsU\" width=\"100\" height=\"100\">\n",
        "  </div>\n",
        "  <div style=\"text-align: left;\">\n",
        "    <div style=\"font-size: 24px; font-weight: bold; color: white; margin-left:20px;\">UPGRADE-HUB</div>\n",
        "    <div style=\"font-size: 18px; font-weight: bold; margin-left: 20px;\">coordinacion.data@bootcamp-upgrade.com</div>\n",
        "  </div>\n",
        "</div>\n",
        "\n",
        "</body>\n",
        "</html>"
      ]
    },
    {
      "cell_type": "markdown",
      "metadata": {
        "id": "XgXi5Ct8bON4"
      },
      "source": [
        "Escribir una función llamada imprimir_cuadrado que tome un número como argumento y muestre el cuadrado de ese número."
      ]
    },
    {
      "cell_type": "code",
      "execution_count": null,
      "metadata": {
        "colab": {
          "base_uri": "https://localhost:8080/"
        },
        "id": "RZ_MW3fBbON5",
        "outputId": "d13ded53-46f9-4c7f-d368-6c4cb1f0b1b7"
      },
      "outputs": [
        {
          "output_type": "stream",
          "name": "stdout",
          "text": [
            "16\n"
          ]
        }
      ],
      "source": [
        "def imprimir_cuadrado(numero):\n",
        "  print(numero**2)\n",
        "imprimir_cuadrado(4)"
      ]
    },
    {
      "cell_type": "markdown",
      "source": [
        "Crear una función llamada es_multiplo que tome dos números como argumentos y retorne True si el primer número es múltiplo del segundo número, y False en caso contrar\n",
        "io."
      ],
      "metadata": {
        "id": "qoH7B6ZbSm4t"
      }
    },
    {
      "cell_type": "code",
      "execution_count": null,
      "metadata": {
        "colab": {
          "base_uri": "https://localhost:8080/"
        },
        "id": "Hcn-dYuDbON6",
        "outputId": "b8587bee-725d-441c-c336-e5427dc3bfd1"
      },
      "outputs": [
        {
          "output_type": "stream",
          "name": "stdout",
          "text": [
            "16 no es multiplo10\n",
            "20 es multiplo de 10\n"
          ]
        },
        {
          "output_type": "execute_result",
          "data": {
            "text/plain": [
              "True"
            ]
          },
          "metadata": {},
          "execution_count": 71
        }
      ],
      "source": [
        "def es_multiplo(numero1, numero2):\n",
        "  if numero1 % numero2 == 0:\n",
        "    print(f\"{numero1} es multiplo de {numero2}\")\n",
        "    return True\n",
        "  else:\n",
        "    print(f\"{numero1} no es multiplo{numero2}\")\n",
        "    return False\n",
        "es_multiplo(16, 10)\n",
        "es_multiplo(20, 10)"
      ]
    },
    {
      "cell_type": "markdown",
      "metadata": {
        "id": "HplHt6wySwRB"
      },
      "source": [
        "Escribir una función llamada invertir_lista que tome una lista como argumento y retorne la lista invertida."
      ]
    },
    {
      "cell_type": "code",
      "execution_count": null,
      "metadata": {
        "colab": {
          "base_uri": "https://localhost:8080/"
        },
        "id": "DoeqdL0xbON7",
        "outputId": "b23efae8-b6eb-4a26-83db-7c9d629e0b97"
      },
      "outputs": [
        {
          "output_type": "stream",
          "name": "stdout",
          "text": [
            "['azúcar', 'agua', 'arroz']\n"
          ]
        }
      ],
      "source": [
        "def invertir_lista():\n",
        "    lista = [\"arroz\", \"agua\", \"azúcar\"]\n",
        "    lista_invertida = []\n",
        "    for i in range(len(lista) - 1, -1, -1):\n",
        "        lista_invertida.append(lista[i])\n",
        "    return lista_invertida\n",
        "\n",
        "resultado = invertir_lista()\n",
        "print(resultado)"
      ]
    },
    {
      "cell_type": "markdown",
      "source": [
        "Crear una función llamada contar_vocales que tome un string como argumento y retorne la cantidad de vocales en el string (no distinguir entre mayúsculas y minúsculas)."
      ],
      "metadata": {
        "id": "GvmlIbWmTDEo"
      }
    },
    {
      "cell_type": "code",
      "execution_count": null,
      "metadata": {
        "colab": {
          "base_uri": "https://localhost:8080/"
        },
        "id": "hvpDMYlGbON9",
        "outputId": "4674d8a4-31f8-47d2-9510-0528554a10df"
      },
      "outputs": [
        {
          "output_type": "stream",
          "name": "stdout",
          "text": [
            "2\n"
          ]
        },
        {
          "output_type": "execute_result",
          "data": {
            "text/plain": [
              "2"
            ]
          },
          "metadata": {},
          "execution_count": 162
        }
      ],
      "source": [
        "def contar_vocales(contar):\n",
        "  cantidad = 0\n",
        "  vocales = (\"a\",\"e\",\"i\",\"o\",\"u\",\"A\",\"E\",\"I\",\"O\",\"U\")\n",
        "  for i in contar:\n",
        "    if i in vocales:\n",
        "      cantidad += 1\n",
        "  return cantidad\n",
        "print(contar_vocales(\"Hello\"))\n",
        "contar_vocales(\"Hello\")"
      ]
    },
    {
      "cell_type": "markdown",
      "metadata": {
        "id": "5eNrW0ckbON9"
      },
      "source": [
        "Escribir una función llamada suma_pares que tome una lista de números como argumento y retorne la suma de todos los números pares en la lista."
      ]
    },
    {
      "cell_type": "code",
      "execution_count": null,
      "metadata": {
        "id": "mN39nu5WbON9",
        "colab": {
          "base_uri": "https://localhost:8080/"
        },
        "outputId": "5ef4f7b1-d5b6-4799-fd8e-1be1c735d43e"
      },
      "outputs": [
        {
          "output_type": "stream",
          "name": "stdout",
          "text": [
            "20\n"
          ]
        }
      ],
      "source": [
        "def suma_pares(lista):\n",
        "  cantidad = 0\n",
        "  for i in lista:\n",
        "    if i % 2 == 0:\n",
        "      cantidad += i\n",
        "  return cantidad\n",
        "listado = [1,2,3,4,5,6,7,8]\n",
        "suma = suma_pares(listado)\n",
        "print(suma)"
      ]
    },
    {
      "cell_type": "markdown",
      "metadata": {
        "id": "rPiHFxqdbON-"
      },
      "source": [
        "Crear una función llamada fibonacci que tome un número n como argumento y retorne el n-ésimo número de la secuencia de Fibonacci."
      ]
    },
    {
      "cell_type": "code",
      "execution_count": null,
      "metadata": {
        "id": "y2eTbklbbON-",
        "colab": {
          "base_uri": "https://localhost:8080/"
        },
        "outputId": "5d957d1b-9aa9-44c2-ca17-fffc48acecf8"
      },
      "outputs": [
        {
          "output_type": "stream",
          "name": "stdout",
          "text": [
            "5\n"
          ]
        }
      ],
      "source": [
        "def fibonacci(n):\n",
        "  if n == 1:\n",
        "    return 0\n",
        "  anterior = 1\n",
        "  actual = 1\n",
        "  for i in range(3, n):\n",
        "    temporal = actual\n",
        "    actual = anterior + actual\n",
        "    anterior = temporal\n",
        "  return actual\n",
        "\n",
        "fib = fibonacci(6)\n",
        "print(fib)\n"
      ]
    },
    {
      "cell_type": "markdown",
      "metadata": {
        "id": "mhTacCKAbON-"
      },
      "source": [
        "Escribir una función llamada palindromo que tome un string como argumento y retorne True si el string es un palíndromo (se lee igual de izquierda a derecha que de derecha a izquierda), y False en caso contrario. Ignorar espacios, signos de puntuación y distinguir entre mayúsculas y minúsculas."
      ]
    },
    {
      "cell_type": "markdown",
      "source": [],
      "metadata": {
        "id": "4XYR42zH6KID"
      }
    },
    {
      "cell_type": "code",
      "execution_count": null,
      "metadata": {
        "id": "EiigkIJIbON_",
        "colab": {
          "base_uri": "https://localhost:8080/"
        },
        "outputId": "db8f91e5-0450-4f04-b0db-4b9a1f30fb1e"
      },
      "outputs": [
        {
          "output_type": "stream",
          "name": "stdout",
          "text": [
            "Texto procesado: 'abduzkan', Invertido: 'nakzudba', ¿Es un palíndromo?: False\n"
          ]
        }
      ],
      "source": [
        "def palindromo(texto):\n",
        "    texto_minuscula = texto.replace(\" \", \"\")\n",
        "    invertido = texto_minuscula[::-1]\n",
        "    palindromo = texto_minuscula == invertido\n",
        "    print(f\"Texto procesado: '{texto_minuscula}', Invertido: '{invertido}', ¿Es un palíndromo?: {palindromo}\")\n",
        "    return palindromo\n",
        "texto =\"abduzkan\"\n",
        "resultado = palindromo(texto)"
      ]
    },
    {
      "cell_type": "markdown",
      "metadata": {
        "id": "0WgECOxGbON_"
      },
      "source": [
        "Crear una función llamada interseccion que tome dos listas como argumentos y retorne una nueva lista con los elementos que se encuentran en ambas listas, sin repetir elementos."
      ]
    },
    {
      "cell_type": "code",
      "execution_count": null,
      "metadata": {
        "id": "xMYmOHgSbON_",
        "colab": {
          "base_uri": "https://localhost:8080/"
        },
        "outputId": "b046a3bb-a46b-433b-df1b-1fd5757401f2"
      },
      "outputs": [
        {
          "output_type": "stream",
          "name": "stdout",
          "text": [
            "['azucar', 'pan']\n"
          ]
        }
      ],
      "source": [
        "def interseccion(lista1,lista2):\n",
        "  lista3 = []\n",
        "  for elemento in lista1:\n",
        "    for elemento2 in lista2:\n",
        "      if elemento == elemento2:\n",
        "        lista3.append(elemento)\n",
        "  return lista3\n",
        "lista1 = [\"almibar\", \"azucar\",\"pan\", \"salmon\", \"garbanzos\", \"nutella\", \"tostadas\"]\n",
        "lista2 = [\"atun\", \"azucar\",\"lejia\",\"carne\",\"pan\"]\n",
        "resultado = interseccion(lista1, lista2)\n",
        "print(resultado)"
      ]
    }
  ],
  "metadata": {
    "kernelspec": {
      "display_name": "Python 3",
      "language": "python",
      "name": "python3"
    },
    "language_info": {
      "name": "python",
      "version": "3.9.13"
    },
    "orig_nbformat": 4,
    "colab": {
      "provenance": []
    }
  },
  "nbformat": 4,
  "nbformat_minor": 0
}