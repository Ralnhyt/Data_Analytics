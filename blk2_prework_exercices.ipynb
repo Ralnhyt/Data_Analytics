{
  "cells": [
    {
      "cell_type": "markdown",
      "metadata": {
        "id": "xLERSV4mOHOn"
      },
      "source": [
        "<!DOCTYPE html>\n",
        "<html>\n",
        "<head>\n",
        "</head>\n",
        "<body>\n",
        "\n",
        "<div style=\"display: flex; justify-content: center; align-items: center; font-family: Arial, sans-serif; margin-top: 20px; margin-bottom: 20px;\">\n",
        "  <div style=\"text-align: right;\">\n",
        "    <div style=\"font-size: 24px; font-weight: bold; color: white; margin-left:20px;\">PREWORK BOOTCAMP DATA ANALYTICS</div>\n",
        "    <div style=\"font-size: 18px; font-weight: bold; margin-left: 20px;\">SEGUNDO BLOQUE: EJERCICIOS</div>\n",
        "  </div>\n",
        "  <div style=\"text-align: right;\">\n",
        "    <img src=\"https://d1fdloi71mui9q.cloudfront.net/S8HhvUnnRgmjyhySHtWl_ZQMaRWd21TfV5AsU\" width=\"100\" height=\"100\">\n",
        "  </div>\n",
        "  <div style=\"text-align: left;\">\n",
        "    <div style=\"font-size: 24px; font-weight: bold; color: white; margin-left:20px;\">UPGRADE-HUB</div>\n",
        "    <div style=\"font-size: 18px; font-weight: bold; margin-left: 20px;\">coordinacion.data@bootcamp-upgrade.com</div>\n",
        "  </div>\n",
        "</div>\n",
        "\n",
        "</body>\n",
        "</html>"
      ]
    },
    {
      "cell_type": "markdown",
      "metadata": {
        "id": "_OkeVds6OHOr"
      },
      "source": [
        "Escribir un programa que le pida al usuario un número entero positivo y muestre por pantalla si el número es par o impar."
      ]
    },
    {
      "cell_type": "code",
      "execution_count": null,
      "metadata": {
        "colab": {
          "base_uri": "https://localhost:8080/"
        },
        "id": "_jK4VKZqOHOs",
        "outputId": "27d186d2-2768-447c-8f8a-4e06e6e675a0"
      },
      "outputs": [
        {
          "output_type": "stream",
          "name": "stdout",
          "text": [
            "escribe_un_numero_entero_positivo: 2\n",
            "2\n",
            "2 es par\n"
          ]
        }
      ],
      "source": [
        "numero = input(\"escribe_un_numero_entero_positivo: \")\n",
        "numero = int(numero)\n",
        "if numero > 0:\n",
        "  print(numero)\n",
        "if numero % 2 == 0:\n",
        "  print(numero, \"es par\")\n",
        "else:\n",
        "  print(numero, \"es impar\")\n"
      ]
    },
    {
      "cell_type": "markdown",
      "metadata": {
        "id": "Yd7FxXJLOHOt"
      },
      "source": [
        "Escribir un programa que le pida al usuario un número entero positivo y muestre por pantalla todos los números impares desde 1 hasta ese número."
      ]
    },
    {
      "cell_type": "code",
      "execution_count": null,
      "metadata": {
        "colab": {
          "base_uri": "https://localhost:8080/"
        },
        "id": "59Yimy7vOHOu",
        "outputId": "0cad8400-f183-4182-e858-e01a6d577b2c"
      },
      "outputs": [
        {
          "output_type": "stream",
          "name": "stdout",
          "text": [
            "escribe_un_entero_positivo: 10\n",
            "1\n",
            "3\n",
            "5\n",
            "7\n",
            "9\n"
          ]
        }
      ],
      "source": [
        "numero = int(input(\"escribe_un_entero_positivo: \"))\n",
        "for numero in range(1,numero+1,2):\n",
        "  print(numero)\n"
      ]
    },
    {
      "cell_type": "markdown",
      "metadata": {
        "id": "Sdy9uy0FOHOv"
      },
      "source": [
        "Escribir un programa que le pida al usuario una cadena de texto y muestre por pantalla cuántas vocales contiene la cadena."
      ]
    },
    {
      "cell_type": "code",
      "execution_count": 93,
      "metadata": {
        "colab": {
          "base_uri": "https://localhost:8080/"
        },
        "id": "sy6Z_XaXOHOw",
        "outputId": "2a36ad3a-e733-451e-c746-b0621f233bbe"
      },
      "outputs": [
        {
          "output_type": "stream",
          "name": "stdout",
          "text": [
            "pideme_una_cadena: aloha hola\n",
            "aloha hola\n",
            "3\n",
            "0\n",
            "0\n",
            "2\n",
            "0\n"
          ]
        }
      ],
      "source": [
        "pideme = input(\"pideme_una_cadena: \")\n",
        "print(pideme)\n",
        "vocales = [\"a\", \"e\", \"i\",\"o\", \"u\"]\n",
        "for vocal in vocales:\n",
        " print(pideme.count(vocal))"
      ]
    },
    {
      "cell_type": "markdown",
      "metadata": {
        "id": "LZG-EQqoOHOx"
      },
      "source": [
        "Escribir un programa que le pida al usuario una lista de números y muestre por pantalla el número mayor de la lista"
      ]
    },
    {
      "cell_type": "code",
      "execution_count": 100,
      "metadata": {
        "id": "YYsxfAPBOHOx",
        "colab": {
          "base_uri": "https://localhost:8080/"
        },
        "outputId": "2de261c9-1e71-4406-d926-58e998708206"
      },
      "outputs": [
        {
          "output_type": "stream",
          "name": "stdout",
          "text": [
            "escribe una lista de numeros separado por espacios ex. 1 2 3 4 5 6 7 8 9 1010 8 7 6 4 5 2\n",
            "['10', '8', '7', '6', '4', '5', '2']\n",
            "10\n"
          ]
        }
      ],
      "source": [
        "numeros = input(\"escribe una lista de numeros separado por espacios ex. 1 2 3 4 5 6 7 8 9 10\")\n",
        "numeros = numeros.split()\n",
        "print(numeros)\n",
        "mayor = int(numeros[0])\n",
        "for num in numeros:\n",
        "  num = int(num)\n",
        "  if num >= mayor:\n",
        "    mayor = num\n",
        "print(mayor)\n",
        "#for lista in range(numeros):\n"
      ]
    },
    {
      "cell_type": "code",
      "source": [],
      "metadata": {
        "id": "dxchTomV7WbI"
      },
      "execution_count": null,
      "outputs": []
    },
    {
      "cell_type": "code",
      "source": [],
      "metadata": {
        "id": "vdDdDbOZ2c-a"
      },
      "execution_count": null,
      "outputs": []
    },
    {
      "cell_type": "code",
      "source": [],
      "metadata": {
        "id": "vYVg4zbf2VY2"
      },
      "execution_count": null,
      "outputs": []
    },
    {
      "cell_type": "markdown",
      "source": [],
      "metadata": {
        "id": "b24WlJYDzCyc"
      }
    },
    {
      "cell_type": "markdown",
      "metadata": {
        "id": "UcZ4O4j6OHOz"
      },
      "source": [
        "Escribir un programa que genere una lista de números aleatorios y muestre por pantalla cuántos números son pares y cuántos son impares."
      ]
    },
    {
      "cell_type": "markdown",
      "source": [],
      "metadata": {
        "id": "dKXNernuqU_K"
      }
    },
    {
      "cell_type": "code",
      "execution_count": 51,
      "metadata": {
        "id": "Yhzz2-yTOHO0",
        "colab": {
          "base_uri": "https://localhost:8080/"
        },
        "outputId": "2d0f66bb-d911-436b-9cd7-146faf6559c7"
      },
      "outputs": [
        {
          "output_type": "stream",
          "name": "stdout",
          "text": [
            "[713, 437, 528, 976, 849, 986, 494, 336, 584]\n",
            "par =6, impar = 3\n"
          ]
        }
      ],
      "source": [
        "import random\n",
        "numeros_aleatorios = []\n",
        "#i numero de las iteraciones\n",
        "for i in range(1, 10):\n",
        "    rand_num = random.randint(1, 1000)\n",
        "    numeros_aleatorios.append(rand_num)\n",
        "print(numeros_aleatorios)\n",
        "par = 0\n",
        "impar = 0\n",
        "for rand_num in numeros_aleatorios:\n",
        "  if (rand_num%2==0):\n",
        "    par = par + 1\n",
        "  else:\n",
        "    impar = impar + 1\n",
        "print(f\"par ={par}, impar = {impar}\")\n"
      ]
    },
    {
      "cell_type": "markdown",
      "metadata": {
        "id": "-ZOGenV8OHO0"
      },
      "source": [
        "Escribir un programa que le pida al usuario una cadena de texto y muestre por pantalla la misma cadena invertida."
      ]
    },
    {
      "cell_type": "code",
      "execution_count": 50,
      "metadata": {
        "id": "vcrBZCnuOHO0",
        "colab": {
          "base_uri": "https://localhost:8080/"
        },
        "outputId": "08cdd334-6733-4e0e-d060-793803ae2bd7"
      },
      "outputs": [
        {
          "output_type": "stream",
          "name": "stdout",
          "text": [
            "Escribe: hola\n",
            "hola\n",
            "aloh\n"
          ]
        }
      ],
      "source": [
        "cadena = input(\"Escribe: \")\n",
        "print(cadena)\n",
        "longitud = len(cadena)\n",
        "cadena_inversa = \"\"\n",
        "for i in range(longitud - 1, 0 - 1,-1):\n",
        "  cadena_inversa = cadena_inversa + cadena[i]\n",
        "print(cadena_inversa)"
      ]
    },
    {
      "cell_type": "markdown",
      "metadata": {
        "id": "ddIonfz1OHO0"
      },
      "source": [
        "Escribir un programa que le pida al usuario una lista de números y muestre por pantalla la suma de todos los números de la lista."
      ]
    },
    {
      "cell_type": "code",
      "execution_count": 55,
      "metadata": {
        "id": "2XbgyfWfOHO1",
        "colab": {
          "base_uri": "https://localhost:8080/"
        },
        "outputId": "6bfdb113-7e14-416a-800f-c27b7312b69d"
      },
      "outputs": [
        {
          "output_type": "stream",
          "name": "stdout",
          "text": [
            "Introduce una lista de numeros(separado por espacios): 1 2 3 4\n",
            "1 2 3 4\n",
            "Resultado:10\n"
          ]
        }
      ],
      "source": [
        "string = input(\"Introduce una lista de numeros(separado por espacios): \")\n",
        "print(string)\n",
        "lista =[]\n",
        "for x in string.split(\" \"):\n",
        "  lista.append(int(x)) #lista = [int(x) for x in string.split() ] <- es la simplificacion.\n",
        "suma = sum(lista)\n",
        "print(f\"Resultado:{suma}\")"
      ]
    },
    {
      "cell_type": "markdown",
      "metadata": {
        "id": "BbAs23JCOHO1"
      },
      "source": [
        "Escribir un programa que le pida al usuario una cadena de texto y muestre por pantalla si la cadena es un palíndromo o no (es decir, si se lee igual de izquierda a derecha que de derecha a izquierda)."
      ]
    },
    {
      "cell_type": "code",
      "execution_count": 92,
      "metadata": {
        "id": "AQEd-d49OHO1",
        "colab": {
          "base_uri": "https://localhost:8080/"
        },
        "outputId": "21c8cb85-d28c-42b9-b21b-f0ded46ec683"
      },
      "outputs": [
        {
          "output_type": "stream",
          "name": "stdout",
          "text": [
            "Escribe: anorac\n",
            "anorac\n",
            "carona\n",
            "No es palindromo\n"
          ]
        }
      ],
      "source": [
        "cadena = input(\"Escribe: \")\n",
        "print(cadena)\n",
        "reves = cadena[::-1]\n",
        "print(reves)\n",
        "if reves == cadena:\n",
        "  print(\"Es palindromo\")\n",
        "else:\n",
        "  print(\"No es palindromo\")"
      ]
    }
  ],
  "metadata": {
    "kernelspec": {
      "display_name": "Python 3",
      "language": "python",
      "name": "python3"
    },
    "language_info": {
      "name": "python",
      "version": "3.9.13"
    },
    "orig_nbformat": 4,
    "colab": {
      "provenance": []
    }
  },
  "nbformat": 4,
  "nbformat_minor": 0
}